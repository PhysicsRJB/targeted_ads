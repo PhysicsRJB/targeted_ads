{
 "cells": [
  {
   "cell_type": "code",
   "execution_count": 1,
   "metadata": {},
   "outputs": [],
   "source": [
    "#set up the env\n",
    "import pkg_resources\n",
    "import types\n",
    "import platform\n",
    "import pandas as pd\n",
    "import matplotlib.pyplot as plt\n",
    "import seaborn as sns\n",
    "import numpy as np\n",
    "from sklearn.linear_model import LogisticRegression\n",
    "from sklearn.model_selection import train_test_split\n",
    "from sklearn.ensemble import RandomForestClassifier\n",
    "from sklearn.model_selection import GridSearchCV\n",
    "from sklearn.metrics import classification_report, confusion_matrix\n",
    "\n",
    "%matplotlib inline"
   ]
  },
  {
   "cell_type": "code",
   "execution_count": 2,
   "metadata": {},
   "outputs": [],
   "source": [
    "#read train and test data from files\n",
    "df_train = pd.read_csv('train.csv', sep=';')\n",
    "df_test = pd.read_csv('test.csv', sep=';')"
   ]
  },
  {
   "cell_type": "code",
   "execution_count": 3,
   "metadata": {},
   "outputs": [
    {
     "data": {
      "text/html": [
       "<div>\n",
       "<style scoped>\n",
       "    .dataframe tbody tr th:only-of-type {\n",
       "        vertical-align: middle;\n",
       "    }\n",
       "\n",
       "    .dataframe tbody tr th {\n",
       "        vertical-align: top;\n",
       "    }\n",
       "\n",
       "    .dataframe thead th {\n",
       "        text-align: right;\n",
       "    }\n",
       "</style>\n",
       "<table border=\"1\" class=\"dataframe\">\n",
       "  <thead>\n",
       "    <tr style=\"text-align: right;\">\n",
       "      <th></th>\n",
       "      <th>Id</th>\n",
       "      <th>Bought_Product</th>\n",
       "      <th>Market_Segment</th>\n",
       "      <th>Online_Account</th>\n",
       "      <th>EnergyTariff</th>\n",
       "      <th>Sex</th>\n",
       "      <th>Age</th>\n",
       "      <th>Non_Energy_Product</th>\n",
       "      <th>How_many_other_contracts</th>\n",
       "      <th>Billing_Amount</th>\n",
       "      <th>District</th>\n",
       "    </tr>\n",
       "  </thead>\n",
       "  <tbody>\n",
       "    <tr>\n",
       "      <th>0</th>\n",
       "      <td>262</td>\n",
       "      <td>0</td>\n",
       "      <td>3</td>\n",
       "      <td>0.0</td>\n",
       "      <td>G12</td>\n",
       "      <td>M</td>\n",
       "      <td>22.0</td>\n",
       "      <td>0</td>\n",
       "      <td>0</td>\n",
       "      <td>9.0000</td>\n",
       "      <td>DistrictA</td>\n",
       "    </tr>\n",
       "    <tr>\n",
       "      <th>1</th>\n",
       "      <td>263</td>\n",
       "      <td>0</td>\n",
       "      <td>2</td>\n",
       "      <td>0.0</td>\n",
       "      <td>C12</td>\n",
       "      <td>M</td>\n",
       "      <td>29.0</td>\n",
       "      <td>1</td>\n",
       "      <td>0</td>\n",
       "      <td>27.7208</td>\n",
       "      <td>DistrictA</td>\n",
       "    </tr>\n",
       "    <tr>\n",
       "      <th>2</th>\n",
       "      <td>264</td>\n",
       "      <td>0</td>\n",
       "      <td>3</td>\n",
       "      <td>0.0</td>\n",
       "      <td>G12</td>\n",
       "      <td>M</td>\n",
       "      <td>18.0</td>\n",
       "      <td>0</td>\n",
       "      <td>0</td>\n",
       "      <td>7.7958</td>\n",
       "      <td>DistrictD</td>\n",
       "    </tr>\n",
       "    <tr>\n",
       "      <th>3</th>\n",
       "      <td>265</td>\n",
       "      <td>0</td>\n",
       "      <td>3</td>\n",
       "      <td>1.0</td>\n",
       "      <td>G12</td>\n",
       "      <td>M</td>\n",
       "      <td>40.5</td>\n",
       "      <td>0</td>\n",
       "      <td>0</td>\n",
       "      <td>7.7500</td>\n",
       "      <td>DistrictD</td>\n",
       "    </tr>\n",
       "    <tr>\n",
       "      <th>4</th>\n",
       "      <td>266</td>\n",
       "      <td>0</td>\n",
       "      <td>3</td>\n",
       "      <td>1.0</td>\n",
       "      <td>G12</td>\n",
       "      <td>M</td>\n",
       "      <td>22.0</td>\n",
       "      <td>0</td>\n",
       "      <td>0</td>\n",
       "      <td>8.0500</td>\n",
       "      <td>DistrictA</td>\n",
       "    </tr>\n",
       "  </tbody>\n",
       "</table>\n",
       "</div>"
      ],
      "text/plain": [
       "    Id  Bought_Product  Market_Segment  Online_Account EnergyTariff Sex   Age  \\\n",
       "0  262               0               3             0.0          G12   M  22.0   \n",
       "1  263               0               2             0.0          C12   M  29.0   \n",
       "2  264               0               3             0.0          G12   M  18.0   \n",
       "3  265               0               3             1.0          G12   M  40.5   \n",
       "4  266               0               3             1.0          G12   M  22.0   \n",
       "\n",
       "   Non_Energy_Product  How_many_other_contracts  Billing_Amount   District  \n",
       "0                   0                         0          9.0000  DistrictA  \n",
       "1                   1                         0         27.7208  DistrictA  \n",
       "2                   0                         0          7.7958  DistrictD  \n",
       "3                   0                         0          7.7500  DistrictD  \n",
       "4                   0                         0          8.0500  DistrictA  "
      ]
     },
     "execution_count": 3,
     "metadata": {},
     "output_type": "execute_result"
    }
   ],
   "source": [
    "#explote train data\n",
    "df_train.head()"
   ]
  },
  {
   "cell_type": "code",
   "execution_count": 4,
   "metadata": {},
   "outputs": [
    {
     "data": {
      "text/html": [
       "<div>\n",
       "<style scoped>\n",
       "    .dataframe tbody tr th:only-of-type {\n",
       "        vertical-align: middle;\n",
       "    }\n",
       "\n",
       "    .dataframe tbody tr th {\n",
       "        vertical-align: top;\n",
       "    }\n",
       "\n",
       "    .dataframe thead th {\n",
       "        text-align: right;\n",
       "    }\n",
       "</style>\n",
       "<table border=\"1\" class=\"dataframe\">\n",
       "  <thead>\n",
       "    <tr style=\"text-align: right;\">\n",
       "      <th></th>\n",
       "      <th>Id</th>\n",
       "      <th>Market_Segment</th>\n",
       "      <th>Online_Account</th>\n",
       "      <th>EnergyTariff</th>\n",
       "      <th>Sex</th>\n",
       "      <th>Age</th>\n",
       "      <th>Non_Energy_Product</th>\n",
       "      <th>How_many_other_contracts</th>\n",
       "      <th>Billing_Amount</th>\n",
       "      <th>District</th>\n",
       "    </tr>\n",
       "  </thead>\n",
       "  <tbody>\n",
       "    <tr>\n",
       "      <th>0</th>\n",
       "      <td>1</td>\n",
       "      <td>3</td>\n",
       "      <td>0.0</td>\n",
       "      <td>C12</td>\n",
       "      <td>F</td>\n",
       "      <td>32.0</td>\n",
       "      <td>1</td>\n",
       "      <td>1</td>\n",
       "      <td>15.50</td>\n",
       "      <td>DistrictE</td>\n",
       "    </tr>\n",
       "    <tr>\n",
       "      <th>1</th>\n",
       "      <td>2</td>\n",
       "      <td>3</td>\n",
       "      <td>NaN</td>\n",
       "      <td>G12</td>\n",
       "      <td>F</td>\n",
       "      <td>17.0</td>\n",
       "      <td>4</td>\n",
       "      <td>2</td>\n",
       "      <td>7.93</td>\n",
       "      <td>DistrictB</td>\n",
       "    </tr>\n",
       "    <tr>\n",
       "      <th>2</th>\n",
       "      <td>3</td>\n",
       "      <td>2</td>\n",
       "      <td>NaN</td>\n",
       "      <td>C12</td>\n",
       "      <td>F</td>\n",
       "      <td>17.0</td>\n",
       "      <td>0</td>\n",
       "      <td>0</td>\n",
       "      <td>12.00</td>\n",
       "      <td>DistrictB</td>\n",
       "    </tr>\n",
       "    <tr>\n",
       "      <th>3</th>\n",
       "      <td>4</td>\n",
       "      <td>3</td>\n",
       "      <td>NaN</td>\n",
       "      <td>G12</td>\n",
       "      <td>F</td>\n",
       "      <td>22.0</td>\n",
       "      <td>0</td>\n",
       "      <td>0</td>\n",
       "      <td>7.75</td>\n",
       "      <td>DistrictB</td>\n",
       "    </tr>\n",
       "    <tr>\n",
       "      <th>4</th>\n",
       "      <td>5</td>\n",
       "      <td>3</td>\n",
       "      <td>0.0</td>\n",
       "      <td>G12</td>\n",
       "      <td>M</td>\n",
       "      <td>45.0</td>\n",
       "      <td>0</td>\n",
       "      <td>0</td>\n",
       "      <td>8.05</td>\n",
       "      <td>DistrictD</td>\n",
       "    </tr>\n",
       "  </tbody>\n",
       "</table>\n",
       "</div>"
      ],
      "text/plain": [
       "   Id  Market_Segment  Online_Account EnergyTariff Sex   Age  \\\n",
       "0   1               3             0.0          C12   F  32.0   \n",
       "1   2               3             NaN          G12   F  17.0   \n",
       "2   3               2             NaN          C12   F  17.0   \n",
       "3   4               3             NaN          G12   F  22.0   \n",
       "4   5               3             0.0          G12   M  45.0   \n",
       "\n",
       "   Non_Energy_Product  How_many_other_contracts  Billing_Amount   District  \n",
       "0                   1                         1           15.50  DistrictE  \n",
       "1                   4                         2            7.93  DistrictB  \n",
       "2                   0                         0           12.00  DistrictB  \n",
       "3                   0                         0            7.75  DistrictB  \n",
       "4                   0                         0            8.05  DistrictD  "
      ]
     },
     "execution_count": 4,
     "metadata": {},
     "output_type": "execute_result"
    }
   ],
   "source": [
    "#explore test data\n",
    "df_test.head()"
   ]
  },
  {
   "cell_type": "code",
   "execution_count": 5,
   "metadata": {},
   "outputs": [
    {
     "name": "stdout",
     "output_type": "stream",
     "text": [
      "<class 'pandas.core.frame.DataFrame'>\n",
      "RangeIndex: 626 entries, 0 to 625\n",
      "Data columns (total 11 columns):\n",
      "Id                          626 non-null int64\n",
      "Bought_Product              626 non-null int64\n",
      "Market_Segment              626 non-null int64\n",
      "Online_Account              367 non-null float64\n",
      "EnergyTariff                611 non-null object\n",
      "Sex                         626 non-null object\n",
      "Age                         616 non-null float64\n",
      "Non_Energy_Product          626 non-null int64\n",
      "How_many_other_contracts    626 non-null int64\n",
      "Billing_Amount              618 non-null float64\n",
      "District                    607 non-null object\n",
      "dtypes: float64(3), int64(5), object(3)\n",
      "memory usage: 53.9+ KB\n",
      "None\n",
      "\n",
      "\n",
      "<class 'pandas.core.frame.DataFrame'>\n",
      "RangeIndex: 261 entries, 0 to 260\n",
      "Data columns (total 10 columns):\n",
      "Id                          261 non-null int64\n",
      "Market_Segment              261 non-null int64\n",
      "Online_Account              157 non-null float64\n",
      "EnergyTariff                255 non-null object\n",
      "Sex                         261 non-null object\n",
      "Age                         257 non-null float64\n",
      "Non_Energy_Product          261 non-null int64\n",
      "How_many_other_contracts    261 non-null int64\n",
      "Billing_Amount              261 non-null float64\n",
      "District                    246 non-null object\n",
      "dtypes: float64(3), int64(4), object(3)\n",
      "memory usage: 20.5+ KB\n",
      "None\n"
     ]
    }
   ],
   "source": [
    "#check if there are any missing values\n",
    "print(df_train.info())\n",
    "print('\\n')\n",
    "print(df_test.info())"
   ]
  },
  {
   "cell_type": "code",
   "execution_count": 6,
   "metadata": {},
   "outputs": [
    {
     "data": {
      "text/html": [
       "<div>\n",
       "<style scoped>\n",
       "    .dataframe tbody tr th:only-of-type {\n",
       "        vertical-align: middle;\n",
       "    }\n",
       "\n",
       "    .dataframe tbody tr th {\n",
       "        vertical-align: top;\n",
       "    }\n",
       "\n",
       "    .dataframe thead th {\n",
       "        text-align: right;\n",
       "    }\n",
       "</style>\n",
       "<table border=\"1\" class=\"dataframe\">\n",
       "  <thead>\n",
       "    <tr style=\"text-align: right;\">\n",
       "      <th></th>\n",
       "      <th>Id</th>\n",
       "      <th>Bought_Product</th>\n",
       "      <th>Market_Segment</th>\n",
       "      <th>Online_Account</th>\n",
       "      <th>Age</th>\n",
       "      <th>Non_Energy_Product</th>\n",
       "      <th>How_many_other_contracts</th>\n",
       "      <th>Billing_Amount</th>\n",
       "    </tr>\n",
       "  </thead>\n",
       "  <tbody>\n",
       "    <tr>\n",
       "      <th>count</th>\n",
       "      <td>626.000000</td>\n",
       "      <td>626.000000</td>\n",
       "      <td>626.000000</td>\n",
       "      <td>367.000000</td>\n",
       "      <td>616.000000</td>\n",
       "      <td>626.000000</td>\n",
       "      <td>626.000000</td>\n",
       "      <td>618.000000</td>\n",
       "    </tr>\n",
       "    <tr>\n",
       "      <th>mean</th>\n",
       "      <td>574.500000</td>\n",
       "      <td>0.383387</td>\n",
       "      <td>2.313099</td>\n",
       "      <td>0.493188</td>\n",
       "      <td>29.783003</td>\n",
       "      <td>0.496805</td>\n",
       "      <td>0.364217</td>\n",
       "      <td>32.987291</td>\n",
       "    </tr>\n",
       "    <tr>\n",
       "      <th>std</th>\n",
       "      <td>180.854914</td>\n",
       "      <td>0.486600</td>\n",
       "      <td>0.822321</td>\n",
       "      <td>0.500636</td>\n",
       "      <td>14.943791</td>\n",
       "      <td>1.007566</td>\n",
       "      <td>0.782773</td>\n",
       "      <td>52.234536</td>\n",
       "    </tr>\n",
       "    <tr>\n",
       "      <th>min</th>\n",
       "      <td>262.000000</td>\n",
       "      <td>0.000000</td>\n",
       "      <td>1.000000</td>\n",
       "      <td>0.000000</td>\n",
       "      <td>0.670000</td>\n",
       "      <td>0.000000</td>\n",
       "      <td>0.000000</td>\n",
       "      <td>0.000000</td>\n",
       "    </tr>\n",
       "    <tr>\n",
       "      <th>25%</th>\n",
       "      <td>418.250000</td>\n",
       "      <td>0.000000</td>\n",
       "      <td>2.000000</td>\n",
       "      <td>0.000000</td>\n",
       "      <td>21.000000</td>\n",
       "      <td>0.000000</td>\n",
       "      <td>0.000000</td>\n",
       "      <td>7.903100</td>\n",
       "    </tr>\n",
       "    <tr>\n",
       "      <th>50%</th>\n",
       "      <td>574.500000</td>\n",
       "      <td>0.000000</td>\n",
       "      <td>3.000000</td>\n",
       "      <td>0.000000</td>\n",
       "      <td>28.000000</td>\n",
       "      <td>0.000000</td>\n",
       "      <td>0.000000</td>\n",
       "      <td>14.254150</td>\n",
       "    </tr>\n",
       "    <tr>\n",
       "      <th>75%</th>\n",
       "      <td>730.750000</td>\n",
       "      <td>1.000000</td>\n",
       "      <td>3.000000</td>\n",
       "      <td>1.000000</td>\n",
       "      <td>38.000000</td>\n",
       "      <td>1.000000</td>\n",
       "      <td>0.000000</td>\n",
       "      <td>30.923950</td>\n",
       "    </tr>\n",
       "    <tr>\n",
       "      <th>max</th>\n",
       "      <td>887.000000</td>\n",
       "      <td>1.000000</td>\n",
       "      <td>3.000000</td>\n",
       "      <td>1.000000</td>\n",
       "      <td>112.000000</td>\n",
       "      <td>8.000000</td>\n",
       "      <td>5.000000</td>\n",
       "      <td>512.329200</td>\n",
       "    </tr>\n",
       "  </tbody>\n",
       "</table>\n",
       "</div>"
      ],
      "text/plain": [
       "               Id  Bought_Product  Market_Segment  Online_Account         Age  \\\n",
       "count  626.000000      626.000000      626.000000      367.000000  616.000000   \n",
       "mean   574.500000        0.383387        2.313099        0.493188   29.783003   \n",
       "std    180.854914        0.486600        0.822321        0.500636   14.943791   \n",
       "min    262.000000        0.000000        1.000000        0.000000    0.670000   \n",
       "25%    418.250000        0.000000        2.000000        0.000000   21.000000   \n",
       "50%    574.500000        0.000000        3.000000        0.000000   28.000000   \n",
       "75%    730.750000        1.000000        3.000000        1.000000   38.000000   \n",
       "max    887.000000        1.000000        3.000000        1.000000  112.000000   \n",
       "\n",
       "       Non_Energy_Product  How_many_other_contracts  Billing_Amount  \n",
       "count          626.000000                626.000000      618.000000  \n",
       "mean             0.496805                  0.364217       32.987291  \n",
       "std              1.007566                  0.782773       52.234536  \n",
       "min              0.000000                  0.000000        0.000000  \n",
       "25%              0.000000                  0.000000        7.903100  \n",
       "50%              0.000000                  0.000000       14.254150  \n",
       "75%              1.000000                  0.000000       30.923950  \n",
       "max              8.000000                  5.000000      512.329200  "
      ]
     },
     "execution_count": 6,
     "metadata": {},
     "output_type": "execute_result"
    }
   ],
   "source": [
    "#explore statistics for numeric train data\n",
    "df_train.describe()"
   ]
  },
  {
   "cell_type": "code",
   "execution_count": 7,
   "metadata": {},
   "outputs": [
    {
     "data": {
      "text/html": [
       "<div>\n",
       "<style scoped>\n",
       "    .dataframe tbody tr th:only-of-type {\n",
       "        vertical-align: middle;\n",
       "    }\n",
       "\n",
       "    .dataframe tbody tr th {\n",
       "        vertical-align: top;\n",
       "    }\n",
       "\n",
       "    .dataframe thead th {\n",
       "        text-align: right;\n",
       "    }\n",
       "</style>\n",
       "<table border=\"1\" class=\"dataframe\">\n",
       "  <thead>\n",
       "    <tr style=\"text-align: right;\">\n",
       "      <th></th>\n",
       "      <th>Id</th>\n",
       "      <th>Market_Segment</th>\n",
       "      <th>Online_Account</th>\n",
       "      <th>Age</th>\n",
       "      <th>Non_Energy_Product</th>\n",
       "      <th>How_many_other_contracts</th>\n",
       "      <th>Billing_Amount</th>\n",
       "    </tr>\n",
       "  </thead>\n",
       "  <tbody>\n",
       "    <tr>\n",
       "      <th>count</th>\n",
       "      <td>261.00000</td>\n",
       "      <td>261.000000</td>\n",
       "      <td>157.000000</td>\n",
       "      <td>257.000000</td>\n",
       "      <td>261.000000</td>\n",
       "      <td>261.000000</td>\n",
       "      <td>261.000000</td>\n",
       "    </tr>\n",
       "    <tr>\n",
       "      <th>mean</th>\n",
       "      <td>131.00000</td>\n",
       "      <td>2.287356</td>\n",
       "      <td>0.439490</td>\n",
       "      <td>29.680311</td>\n",
       "      <td>0.593870</td>\n",
       "      <td>0.429119</td>\n",
       "      <td>30.470421</td>\n",
       "    </tr>\n",
       "    <tr>\n",
       "      <th>std</th>\n",
       "      <td>75.48841</td>\n",
       "      <td>0.871445</td>\n",
       "      <td>0.497913</td>\n",
       "      <td>15.490308</td>\n",
       "      <td>1.308185</td>\n",
       "      <td>0.863665</td>\n",
       "      <td>44.339654</td>\n",
       "    </tr>\n",
       "    <tr>\n",
       "      <th>min</th>\n",
       "      <td>1.00000</td>\n",
       "      <td>1.000000</td>\n",
       "      <td>0.000000</td>\n",
       "      <td>0.420000</td>\n",
       "      <td>0.000000</td>\n",
       "      <td>0.000000</td>\n",
       "      <td>0.000000</td>\n",
       "    </tr>\n",
       "    <tr>\n",
       "      <th>25%</th>\n",
       "      <td>66.00000</td>\n",
       "      <td>1.000000</td>\n",
       "      <td>0.000000</td>\n",
       "      <td>20.000000</td>\n",
       "      <td>0.000000</td>\n",
       "      <td>0.000000</td>\n",
       "      <td>7.900000</td>\n",
       "    </tr>\n",
       "    <tr>\n",
       "      <th>50%</th>\n",
       "      <td>131.00000</td>\n",
       "      <td>3.000000</td>\n",
       "      <td>0.000000</td>\n",
       "      <td>28.000000</td>\n",
       "      <td>0.000000</td>\n",
       "      <td>0.000000</td>\n",
       "      <td>15.000000</td>\n",
       "    </tr>\n",
       "    <tr>\n",
       "      <th>75%</th>\n",
       "      <td>196.00000</td>\n",
       "      <td>3.000000</td>\n",
       "      <td>1.000000</td>\n",
       "      <td>39.000000</td>\n",
       "      <td>1.000000</td>\n",
       "      <td>1.000000</td>\n",
       "      <td>31.390000</td>\n",
       "    </tr>\n",
       "    <tr>\n",
       "      <th>max</th>\n",
       "      <td>261.00000</td>\n",
       "      <td>3.000000</td>\n",
       "      <td>1.000000</td>\n",
       "      <td>114.000000</td>\n",
       "      <td>8.000000</td>\n",
       "      <td>6.000000</td>\n",
       "      <td>512.330000</td>\n",
       "    </tr>\n",
       "  </tbody>\n",
       "</table>\n",
       "</div>"
      ],
      "text/plain": [
       "              Id  Market_Segment  Online_Account         Age  \\\n",
       "count  261.00000      261.000000      157.000000  257.000000   \n",
       "mean   131.00000        2.287356        0.439490   29.680311   \n",
       "std     75.48841        0.871445        0.497913   15.490308   \n",
       "min      1.00000        1.000000        0.000000    0.420000   \n",
       "25%     66.00000        1.000000        0.000000   20.000000   \n",
       "50%    131.00000        3.000000        0.000000   28.000000   \n",
       "75%    196.00000        3.000000        1.000000   39.000000   \n",
       "max    261.00000        3.000000        1.000000  114.000000   \n",
       "\n",
       "       Non_Energy_Product  How_many_other_contracts  Billing_Amount  \n",
       "count          261.000000                261.000000      261.000000  \n",
       "mean             0.593870                  0.429119       30.470421  \n",
       "std              1.308185                  0.863665       44.339654  \n",
       "min              0.000000                  0.000000        0.000000  \n",
       "25%              0.000000                  0.000000        7.900000  \n",
       "50%              0.000000                  0.000000       15.000000  \n",
       "75%              1.000000                  1.000000       31.390000  \n",
       "max              8.000000                  6.000000      512.330000  "
      ]
     },
     "execution_count": 7,
     "metadata": {},
     "output_type": "execute_result"
    }
   ],
   "source": [
    "#explore statistics for numeric test data\n",
    "df_test.describe()"
   ]
  },
  {
   "cell_type": "code",
   "execution_count": 8,
   "metadata": {},
   "outputs": [
    {
     "data": {
      "image/png": "[encoded data removed]",
      "text/plain": [
       "<Figure size 432x288 with 1 Axes>"
      ]
     },
     "metadata": {
      "needs_background": "light"
     },
     "output_type": "display_data"
    },
    {
     "data": {
      "image/png": "[encoded data removed]",
      "text/plain": [
       "<Figure size 432x288 with 1 Axes>"
      ]
     },
     "metadata": {
      "needs_background": "light"
     },
     "output_type": "display_data"
    }
   ],
   "source": [
    "#values in two columns (Age and Billing_Amount)seem a bit suspicious, let's explote them further\n",
    "data_boxplot = pd.concat([df_train['Age'], df_test['Age']], axis=1)\n",
    "data_boxplot.columns = ['Age_Train', 'Age_Test']\n",
    "sns.boxplot(data=data_boxplot, orient='v')\n",
    "plt.show()\n",
    "\n",
    "data_boxplot = pd.concat([df_train['Billing_Amount'], df_test['Billing_Amount']], axis=1)\n",
    "data_boxplot.columns = ['Billing_Train', 'Billing_Test']\n",
    "sns.boxplot(data=data_boxplot, orient='v')\n",
    "plt.show()"
   ]
  },
  {
   "cell_type": "code",
   "execution_count": 9,
   "metadata": {},
   "outputs": [],
   "source": [
    "'''now as we saw previously, columns:\n",
    "Online_Account, EnergyTariff, Age, Billing_Amount and District\n",
    "have missing values. Here I create a function to deal with it.'''\n",
    "def deal_with_missing_values(df):\n",
    "    #create empty df\n",
    "    data_corrected = pd.DataFrame()\n",
    "    \n",
    "    #copy Market_Segment columnt, as there are no missing values\n",
    "    data_corrected['Market_Segment'] = df['Market_Segment'].copy(deep=True)\n",
    "    \n",
    "    #get dummy variables for Online_Account\n",
    "    data_corrected = pd.concat([data_corrected, pd.get_dummies(df['Online_Account'],\n",
    "                    prefix='Online', dummy_na=True)],axis=1)\n",
    "    \n",
    "    #copy EnergyTariff column and replace missing values with highest frequency option\n",
    "    data_corrected['EnergyTariff'] = df['EnergyTariff'].copy(deep=True)\n",
    "    data_corrected.loc[pd.isna(data_corrected['EnergyTariff']), 'EnergyTariff'] \\\n",
    "                    = df['EnergyTariff'].value_counts().index[0]\n",
    "    data_corrected = pd.concat([data_corrected, pd.get_dummies(data_corrected['EnergyTariff'],\n",
    "                    prefix='EnergyTariff')],axis=1)\n",
    "    data_corrected = data_corrected.drop(['EnergyTariff'], axis=1)\n",
    "    \n",
    "    #get dummy variables for Sex\n",
    "    data_corrected = pd.concat([data_corrected, pd.get_dummies(df['Sex'],\n",
    "                    prefix='Sex')],axis=1)   \n",
    "    \n",
    "    #copy Age column and replace missing values with mean value\n",
    "    data_corrected['Age'] = df['Age'].copy(deep=True)\n",
    "    data_corrected.loc[pd.isna(data_corrected['Age']),['Age']] = df['Age'].mean()\n",
    "    \n",
    "    #copy Non_Energy_Product column, as there are no missing values\n",
    "    data_corrected['Non_Energy_Product'] = df['Non_Energy_Product'].copy(deep=True)\n",
    "    \n",
    "    #copy How_many_other_contracts column, as there are no missing values\n",
    "    data_corrected['How_many_other_contracts'] = df['How_many_other_contracts'].copy(deep=True)\n",
    "    \n",
    "    #copy Billing_Amount column and replace missing values with median value\n",
    "    data_corrected['Billing_Amount'] = df['Billing_Amount'].copy(deep=True)\n",
    "    data_corrected.loc[pd.isna(data_corrected['Billing_Amount']),['Billing_Amount']] = df['Billing_Amount'].median()\n",
    "    \n",
    "    #copy District column and replace missing values with most highest frequency option\n",
    "    data_corrected['District'] = df['District'].copy(deep=True)\n",
    "    data_corrected.loc[pd.isna(data_corrected['District']), 'District'] \\\n",
    "                    = df['District'].value_counts().index[0]\n",
    "    data_corrected = pd.concat([data_corrected, pd.get_dummies(data_corrected['District']\n",
    "                    )],axis=1)\n",
    "    data_corrected = data_corrected.drop(['District'], axis=1)\n",
    "    \n",
    "    return data_corrected"
   ]
  },
  {
   "cell_type": "code",
   "execution_count": 10,
   "metadata": {},
   "outputs": [],
   "source": [
    "X = deal_with_missing_values(df_train)\n",
    "y = df_train['Bought_Product']\n",
    "data_w_labels_wo_nan = pd.concat([X, y], axis=1)"
   ]
  },
  {
   "cell_type": "code",
   "execution_count": 11,
   "metadata": {},
   "outputs": [
    {
     "data": {
      "image/png": "[encoded data removed]",
      "text/plain": [
       "<Figure size 936x720 with 2 Axes>"
      ]
     },
     "metadata": {
      "needs_background": "light"
     },
     "output_type": "display_data"
    }
   ],
   "source": [
    "corr = (data_w_labels_wo_nan.corr(method='pearson'))\n",
    "fig, ax = plt.subplots(figsize=(13,10))\n",
    "mask = np.zeros_like(corr, dtype=np.bool)\n",
    "cmap = sns.diverging_palette(200, 5, as_cmap=True)\n",
    "mask[np.triu_indices_from(mask)] = True\n",
    "sns.heatmap(corr, mask=mask, cmap=cmap, annot=True, fmt='.2f',\n",
    "            xticklabels=data_w_labels_wo_nan.columns,\n",
    "            yticklabels=data_w_labels_wo_nan.columns)\n",
    "plt.show()"
   ]
  },
  {
   "cell_type": "code",
   "execution_count": 12,
   "metadata": {},
   "outputs": [
    {
     "name": "stdout",
     "output_type": "stream",
     "text": [
      "1    163\n",
      "0     57\n",
      "Name: Bought_Product, dtype: int64\n",
      "74.0909090909091\n"
     ]
    }
   ],
   "source": [
    "#percent of women which bought new product\n",
    "print(data_w_labels_wo_nan.loc[data_w_labels_wo_nan['Sex_F']==1,'Bought_Product'].value_counts())\n",
    "a, b = data_w_labels_wo_nan.loc[data_w_labels_wo_nan['Sex_F']==1,'Bought_Product'].value_counts()\n",
    "\n",
    "print(a/(a+b)*100)"
   ]
  },
  {
   "cell_type": "code",
   "execution_count": 13,
   "metadata": {},
   "outputs": [],
   "source": [
    "#split train data into train and test subsets\n",
    "X_train, X_test, y_train, y_test = train_test_split(X, y,\n",
    "    random_state=87, stratify = y)"
   ]
  },
  {
   "cell_type": "code",
   "execution_count": 14,
   "metadata": {},
   "outputs": [
    {
     "name": "stdout",
     "output_type": "stream",
     "text": [
      "Fitting 10 folds for each of 202 candidates, totalling 2020 fits\n"
     ]
    },
    {
     "name": "stderr",
     "output_type": "stream",
     "text": [
      "[Parallel(n_jobs=-1)]: Using backend LokyBackend with 4 concurrent workers.\n",
      "[Parallel(n_jobs=-1)]: Done 197 tasks      | elapsed:    2.2s\n"
     ]
    },
    {
     "name": "stdout",
     "output_type": "stream",
     "text": [
      "tuned hyperparameters :(best parameters)  {'C': 4.0, 'penalty': 'l2'}\n",
      "accuracy : 0.8123667377398721\n"
     ]
    },
    {
     "name": "stderr",
     "output_type": "stream",
     "text": [
      "[Parallel(n_jobs=-1)]: Done 2020 out of 2020 | elapsed:    5.4s finished\n"
     ]
    }
   ],
   "source": [
    "#perform hyperparameter optimisation using GridSearch for Logistic Regression\n",
    "grid = {\"C\":np.linspace(4,5,101), \"penalty\":[\"l1\",\"l2\"]}# l1 lasso l2 ridge\n",
    "lrc = LogisticRegression(solver='liblinear')\n",
    "lrc_grid = GridSearchCV(lrc, grid, cv=10, verbose=1, n_jobs=-1)\n",
    "lrc_grid.fit(X_train,y_train)\n",
    "\n",
    "print(\"tuned hyperparameters :(best parameters) \",lrc_grid.best_params_)\n",
    "print(\"accuracy :\",lrc_grid.best_score_)"
   ]
  },
  {
   "cell_type": "code",
   "execution_count": 15,
   "metadata": {},
   "outputs": [
    {
     "name": "stderr",
     "output_type": "stream",
     "text": [
      "[Parallel(n_jobs=-1)]: Using backend LokyBackend with 4 concurrent workers.\n"
     ]
    },
    {
     "name": "stdout",
     "output_type": "stream",
     "text": [
      "Fitting 10 folds for each of 420 candidates, totalling 4200 fits\n"
     ]
    },
    {
     "name": "stderr",
     "output_type": "stream",
     "text": [
      "[Parallel(n_jobs=-1)]: Done  42 tasks      | elapsed:    2.1s\n",
      "[Parallel(n_jobs=-1)]: Done 192 tasks      | elapsed:   16.7s\n",
      "[Parallel(n_jobs=-1)]: Done 442 tasks      | elapsed:   36.9s\n",
      "[Parallel(n_jobs=-1)]: Done 792 tasks      | elapsed:  1.1min\n",
      "[Parallel(n_jobs=-1)]: Done 1242 tasks      | elapsed:  1.8min\n",
      "[Parallel(n_jobs=-1)]: Done 1792 tasks      | elapsed:  2.6min\n",
      "[Parallel(n_jobs=-1)]: Done 2442 tasks      | elapsed:  3.5min\n",
      "[Parallel(n_jobs=-1)]: Done 3192 tasks      | elapsed:  4.6min\n",
      "[Parallel(n_jobs=-1)]: Done 4042 tasks      | elapsed:  5.8min\n",
      "[Parallel(n_jobs=-1)]: Done 4200 out of 4200 | elapsed:  6.1min finished\n"
     ]
    },
    {
     "name": "stdout",
     "output_type": "stream",
     "text": [
      "tuned hyperparameters :(best parameters)  {'max_depth': 10, 'max_features': 'log2', 'n_estimators': 200}\n",
      "accuracy : 0.8230277185501066\n"
     ]
    }
   ],
   "source": [
    "#perform hyperparameter optimisation using GridSearch for Random Forest\n",
    "rfc = RandomForestClassifier(random_state=0)\n",
    "n_estimators = [int(x) for x in np.linspace(start = 50, stop = 500, num = 10)] #it has to be integer\n",
    "max_features = ['log2', 'sqrt']\n",
    "max_depth = [int(x) for x in np.linspace(10, 200, num = 20)] #it has to be integer\n",
    "max_depth.append(None)\n",
    "grid = {\n",
    " 'n_estimators': n_estimators,\n",
    " 'max_features': max_features,\n",
    " 'max_depth': max_depth\n",
    " }\n",
    "rfc_grid = GridSearchCV(estimator = rfc, \n",
    "            param_grid = grid, cv = 10, verbose=1, n_jobs = -1)\n",
    "rfc_grid.fit(X_train, y_train)\n",
    "print(\"tuned hyperparameters :(best parameters) \",rfc_grid.best_params_)\n",
    "print(\"accuracy :\",rfc_grid.best_score_)"
   ]
  },
  {
   "cell_type": "code",
   "execution_count": 16,
   "metadata": {},
   "outputs": [
    {
     "name": "stdout",
     "output_type": "stream",
     "text": [
      "0.8535031847133758\n",
      "0.8471337579617835\n"
     ]
    }
   ],
   "source": [
    "#train Random Forest and Logistic Regression with hyperparameters tuned by grid search with CV\n",
    "rfc = RandomForestClassifier(n_estimators = 200, random_state = 0, n_jobs = -1,\n",
    "                                 max_depth = 10, max_features ='log2')\n",
    "rfc.fit(X_train, y_train)\n",
    "print(rfc.score(X_test, y_test))\n",
    "\n",
    "lrc = LogisticRegression(C=4, penalty='l2', solver='liblinear')\n",
    "lrc.fit(X_train, y_train)\n",
    "print(lrc.score(X_test, y_test))"
   ]
  },
  {
   "cell_type": "code",
   "execution_count": 17,
   "metadata": {},
   "outputs": [
    {
     "name": "stdout",
     "output_type": "stream",
     "text": [
      "=== Confusion Matrix Random Forest===\n"
     ]
    },
    {
     "data": {
      "image/png": "[encoded data removed]",
      "text/plain": [
       "<Figure size 432x288 with 2 Axes>"
      ]
     },
     "metadata": {
      "needs_background": "light"
     },
     "output_type": "display_data"
    },
    {
     "name": "stdout",
     "output_type": "stream",
     "text": [
      "=== Confusion Matrix Logistic Regression===\n"
     ]
    },
    {
     "data": {
      "image/png": "[encoded data removed]",
      "text/plain": [
       "<Figure size 432x288 with 2 Axes>"
      ]
     },
     "metadata": {
      "needs_background": "light"
     },
     "output_type": "display_data"
    },
    {
     "name": "stdout",
     "output_type": "stream",
     "text": [
      "=== Confusion Matrix Combined===\n"
     ]
    },
    {
     "data": {
      "image/png": "[encoded data removed]",
      "text/plain": [
       "<Figure size 432x288 with 2 Axes>"
      ]
     },
     "metadata": {
      "needs_background": "light"
     },
     "output_type": "display_data"
    },
    {
     "name": "stdout",
     "output_type": "stream",
     "text": [
      "=== Classification Report Random Forest===\n",
      "              precision    recall  f1-score   support\n",
      "\n",
      "           0       0.88      0.89      0.88        97\n",
      "           1       0.81      0.80      0.81        60\n",
      "\n",
      "    accuracy                           0.85       157\n",
      "   macro avg       0.85      0.84      0.84       157\n",
      "weighted avg       0.85      0.85      0.85       157\n",
      "\n",
      "\n",
      "\n",
      "=== Classification Report Logistic Regression===\n",
      "              precision    recall  f1-score   support\n",
      "\n",
      "           0       0.88      0.88      0.88        97\n",
      "           1       0.80      0.80      0.80        60\n",
      "\n",
      "    accuracy                           0.85       157\n",
      "   macro avg       0.84      0.84      0.84       157\n",
      "weighted avg       0.85      0.85      0.85       157\n",
      "\n",
      "\n",
      "\n",
      "=== Classification Report Combined===\n",
      "              precision    recall  f1-score   support\n",
      "\n",
      "           0       0.90      0.84      0.87        97\n",
      "           1       0.76      0.85      0.80        60\n",
      "\n",
      "    accuracy                           0.84       157\n",
      "   macro avg       0.83      0.84      0.83       157\n",
      "weighted avg       0.85      0.84      0.84       157\n",
      "\n",
      "\n",
      "\n"
     ]
    }
   ],
   "source": [
    "print(\"=== Confusion Matrix Random Forest===\")\n",
    "sns.heatmap(confusion_matrix(y_test, rfc.predict(X_test)),annot=True, fmt='.2f')\n",
    "plt.show()\n",
    "print(\"=== Confusion Matrix Logistic Regression===\")            \n",
    "sns.heatmap(confusion_matrix(y_test, lrc.predict(X_test)),annot=True, fmt='.2f')\n",
    "plt.show()\n",
    "print(\"=== Confusion Matrix Combined===\")\n",
    "sns.heatmap(confusion_matrix(y_test, (lrc.predict(X_test)|rfc.predict(X_test))),annot=True, fmt='.2f')\n",
    "plt.show()\n",
    "\n",
    "print(\"=== Classification Report Random Forest===\")\n",
    "print(classification_report(y_test, (rfc.predict(X_test))))\n",
    "print('\\n')\n",
    "\n",
    "print(\"=== Classification Report Logistic Regression===\")\n",
    "print(classification_report(y_test, (lrc.predict(X_test))))\n",
    "print('\\n')\n",
    "\n",
    "print(\"=== Classification Report Combined===\")\n",
    "print(classification_report(y_test, (lrc.predict(X_test)|rfc.predict(X_test))))\n",
    "print('\\n')"
   ]
  },
  {
   "cell_type": "code",
   "execution_count": 21,
   "metadata": {},
   "outputs": [
    {
     "name": "stdout",
     "output_type": "stream",
     "text": [
      "Python==3.7.3\n",
      "seaborn==0.9.0\n",
      "scikit-learn==0.21.2\n",
      "pandas==0.24.2\n",
      "numpy==1.16.3\n",
      "matplotlib==3.0.3\n"
     ]
    }
   ],
   "source": [
    "\"\"\"Save requirements.txt file with only packages used in this notebook (instead of the list of all\n",
    "produced by pip freeze)\"\"\"\n",
    "def get_imports():\n",
    "    for name, val in globals().items():\n",
    "        if isinstance(val, types.ModuleType):\n",
    "            # Split ensures you get root package, \n",
    "            # not just imported function\n",
    "            name = val.__name__.split(\".\")[0]\n",
    "\n",
    "        elif isinstance(val, type):\n",
    "            name = val.__module__.split(\".\")[0]\n",
    "\n",
    "        poorly_named_packages = {\n",
    "            \"sklearn\": \"scikit-learn\"\n",
    "        }\n",
    "        if name in poorly_named_packages.keys():\n",
    "            name = poorly_named_packages[name]\n",
    "\n",
    "        yield name\n",
    "imports = list(set(get_imports()))\n",
    "\n",
    "requirements = []\n",
    "for m in pkg_resources.working_set:\n",
    "    if m.project_name in imports and m.project_name!=\"pip\":\n",
    "        requirements.append((m.project_name, m.version))\n",
    "        \n",
    "f = open('requirements.txt','w')\n",
    "f.write(\"{}=={}\".format('Python',platform.python_version()))\n",
    "f.write('\\n')\n",
    "print(\"{}=={}\".format('Python',platform.python_version()))\n",
    "for r in requirements:\n",
    "    f.write(\"{}=={}\".format(*r))\n",
    "    f.write('\\n')\n",
    "    print(\"{}=={}\".format(*r))\n",
    "f.close()"
   ]
  }
 ],
 "metadata": {
  "kernelspec": {
   "display_name": "Python 3",
   "language": "python",
   "name": "python3"
  },
  "language_info": {
   "codemirror_mode": {
    "name": "ipython",
    "version": 3
   },
   "file_extension": ".py",
   "mimetype": "text/x-python",
   "name": "python",
   "nbconvert_exporter": "python",
   "pygments_lexer": "ipython3",
   "version": "3.7.3"
  }
 },
 "nbformat": 4,
 "nbformat_minor": 2
}
